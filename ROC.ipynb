{
 "cells": [
  {
   "cell_type": "code",
   "execution_count": 1,
   "metadata": {},
   "outputs": [],
   "source": [
    "import numpy as np\n",
    "import matplotlib.pyplot as plt\n",
    "from itertools import cycle\n",
    "\n",
    "from sklearn import svm, datasets\n",
    "from sklearn.metrics import roc_curve, auc\n",
    "from sklearn.model_selection import train_test_split\n",
    "from sklearn.preprocessing import label_binarize\n",
    "from sklearn.multiclass import OneVsRestClassifier\n",
    "from scipy import interp"
   ]
  },
  {
   "cell_type": "code",
   "execution_count": 2,
   "metadata": {},
   "outputs": [
    {
     "data": {
      "text/plain": [
       "(150,)"
      ]
     },
     "execution_count": 2,
     "metadata": {},
     "output_type": "execute_result"
    }
   ],
   "source": [
    "# Import some data to play with\n",
    "iris = datasets.load_iris()\n",
    "X = iris.data\n",
    "y = iris.target\n",
    "y.shape"
   ]
  },
  {
   "cell_type": "code",
   "execution_count": 3,
   "metadata": {},
   "outputs": [
    {
     "name": "stdout",
     "output_type": "stream",
     "text": [
      "600 150\n"
     ]
    }
   ],
   "source": [
    "print(np.size(X),np.size(y))"
   ]
  },
  {
   "cell_type": "code",
   "execution_count": 4,
   "metadata": {},
   "outputs": [
    {
     "data": {
      "text/plain": [
       "(150, 3)"
      ]
     },
     "execution_count": 4,
     "metadata": {},
     "output_type": "execute_result"
    }
   ],
   "source": [
    "y = label_binarize(y, classes=[0, 1, 2])\n",
    "n_classes = y.shape[1]\n",
    "y.shape"
   ]
  },
  {
   "cell_type": "code",
   "execution_count": 9,
   "metadata": {},
   "outputs": [],
   "source": [
    "# Add noisy features to make the problem harder\n",
    "random_state = np.random.RandomState(0)\n",
    "n_samples, n_features = X.shape\n",
    "X = np.c_[X, random_state.randn(n_samples, 200 * n_features)]\n"
   ]
  },
  {
   "cell_type": "code",
   "execution_count": 10,
   "metadata": {},
   "outputs": [],
   "source": [
    "# shuffle and split training and test sets\n",
    "X_train, X_test, y_train, y_test = train_test_split(X, y, test_size=.5,\n",
    "                                                    random_state=0)"
   ]
  },
  {
   "cell_type": "code",
   "execution_count": 34,
   "metadata": {},
   "outputs": [
    {
     "name": "stdout",
     "output_type": "stream",
     "text": [
      "{0: 0.9118165784832452, 1: 0.6029629629629629, 2: 0.7859477124183007, 'micro': 0.7274666666666667}\n",
      "[[-0.76305896 -0.36472635  0.1239796 ]\n",
      " [-0.20238399 -0.63148982 -0.16616656]\n",
      " [ 0.11808492 -0.80262259 -0.32062486]\n",
      " [-0.90750303 -0.1239792   0.02184016]\n",
      " [-0.01108555 -0.27918155 -0.71882525]\n",
      " [-0.60521037 -0.34728075 -0.05851787]\n",
      " [ 0.02264569 -0.24507866 -0.79094201]\n",
      " [-0.61115098  0.1827259  -0.57154703]\n",
      " [-0.37590649 -0.24062697 -0.38892819]\n",
      " [-0.47019698 -0.25733679 -0.27501927]\n",
      " [-0.42194767 -0.30275351 -0.28027547]\n",
      " [-0.33545871 -0.70306393  0.02538619]\n",
      " [-0.22711497 -0.64064389 -0.13452752]\n",
      " [-0.07836815 -0.46342889 -0.45930643]\n",
      " [-0.533757   -0.26521263 -0.20026826]\n",
      " [ 0.09973063 -0.55326984 -0.56156984]\n",
      " [-0.71354879 -0.04231832 -0.24317009]\n",
      " [-0.55067912 -0.13785396 -0.31413579]\n",
      " [ 0.37989555 -0.99673681 -0.3909524 ]\n",
      " [-0.11088917 -0.91357544  0.03129667]\n",
      " [-0.70721114 -0.06430956 -0.21412904]\n",
      " [-0.02407429 -0.45895598 -0.51928682]\n",
      " [-0.25004251 -0.80100991  0.04076059]\n",
      " [ 0.12688003 -0.70987418 -0.41083444]\n",
      " [-0.68224184 -0.20724969 -0.1202643 ]\n",
      " [-0.0800568  -0.36695547 -0.57664396]\n",
      " [-0.03254409 -0.11603038 -0.8648849 ]\n",
      " [-0.04974597 -0.73610513 -0.21652326]\n",
      " [-0.13003384 -0.37669991 -0.49962148]\n",
      " [-0.19289268 -0.71079054 -0.11051706]\n",
      " [-0.36221002 -0.41410723 -0.2273942 ]\n",
      " [-0.2284516  -0.78973024  0.02074984]\n",
      " [-0.06178684 -0.47628223 -0.45378569]\n",
      " [-0.52446923 -0.46496654 -0.00359355]\n",
      " [-0.40029714 -0.71472476  0.10099661]\n",
      " [-0.3511887  -0.31112596 -0.33970555]\n",
      " [-0.05774206 -0.51400526 -0.41773929]\n",
      " [-1.11908314 -0.00736339  0.12950484]\n",
      " [ 0.19597017 -0.65775051 -0.54614202]\n",
      " [-0.04342577 -0.60042226 -0.35868612]\n",
      " [-0.4812135  -0.21920638 -0.30068446]\n",
      " [ 0.17431275 -1.0108599  -0.18121717]\n",
      " [-0.41431727 -0.60032358  0.00863558]\n",
      " [-0.01086869 -0.75802709 -0.22892428]\n",
      " [ 0.01626312 -0.8156017  -0.20376516]\n",
      " [-0.11923774 -0.84788528 -0.05836804]\n",
      " [-0.70843733 -0.286195   -0.01169663]\n",
      " [-0.77322168 -0.43208966  0.21330137]\n",
      " [-0.61461496 -0.15074926 -0.23335428]\n",
      " [-0.96335686 -0.62814722  0.58431039]\n",
      " [-0.31000437 -0.29574607 -0.3941874 ]\n",
      " [-0.31988026 -0.34629128 -0.32066024]\n",
      " [-0.35307167 -0.66921938  0.00761443]\n",
      " [ 0.12141618 -0.62483742 -0.50579325]\n",
      " [-0.66412149 -0.11447286 -0.21316263]\n",
      " [-0.55119677 -0.34855218 -0.10579228]\n",
      " [-0.55717268 -0.13386492 -0.30604104]\n",
      " [-0.41121128 -0.52473406 -0.07437911]\n",
      " [-0.49442008 -0.2332585  -0.27820574]\n",
      " [ 0.06881717 -0.85437126 -0.21661728]\n",
      " [-0.23058968 -0.48751709 -0.28302624]\n",
      " [ 0.30309598 -0.83392326 -0.47723277]\n",
      " [ 0.17584119 -0.81582683 -0.37510759]\n",
      " [-0.19111926 -0.70824907 -0.10203375]\n",
      " [-0.42896846 -0.3990632  -0.16931316]\n",
      " [-0.67758109  0.09202727 -0.39954675]\n",
      " [-0.32984013 -0.56568558 -0.1204075 ]\n",
      " [-0.97144386 -0.46477124  0.41494993]\n",
      " [ 0.02097654 -0.56915133 -0.44612973]\n",
      " [-0.08193282 -0.56128644 -0.35207865]\n",
      " [-0.41489593 -0.63695943  0.04859412]\n",
      " [-0.30434286 -0.08424982 -0.61862499]\n",
      " [ 0.18874747 -0.88796087 -0.29723377]\n",
      " [ 0.24975994 -0.80511827 -0.44319443]\n",
      " [-0.39991848 -0.29010996 -0.30381285]]\n"
     ]
    }
   ],
   "source": [
    "# Learn to predict each class against the other\n",
    "classifier = OneVsRestClassifier(svm.SVC(kernel='linear', probability=True,\n",
    "                                 random_state=random_state))\n",
    "y_score = classifier.fit(X_train, y_train).decision_function(X_test)\n",
    "#print(y_score)\n",
    "\n",
    "# Compute ROC curve and ROC area for each class\n",
    "fpr = dict()\n",
    "tpr = dict()\n",
    "roc_auc = dict()\n",
    "for i in range(n_classes):\n",
    "    fpr[i], tpr[i], _ = roc_curve(y_test[:, i], y_score[:, i])\n",
    "    roc_auc[i] = auc(fpr[i], tpr[i])\n",
    "\n",
    "# Compute micro-average ROC curve and ROC area\n",
    "fpr[\"micro\"], tpr[\"micro\"], _ = roc_curve(y_test.ravel(), y_score.ravel())\n",
    "roc_auc[\"micro\"] = auc(fpr[\"micro\"], tpr[\"micro\"])\n",
    "roc_auc\n",
    "\n",
    "print(roc_auc)\n",
    "print(y_score)"
   ]
  },
  {
   "cell_type": "code",
   "execution_count": 38,
   "metadata": {},
   "outputs": [
    {
     "data": {
      "image/png": "[encoded data removed]",
      "text/plain": [
       "<Figure size 432x288 with 1 Axes>"
      ]
     },
     "metadata": {
      "needs_background": "light"
     },
     "output_type": "display_data"
    }
   ],
   "source": [
    "#plot roc\n",
    "plt.figure()\n",
    "lw = 2\n",
    "plt.plot(fpr[0], tpr[0], color='darkorange',\n",
    "         lw=lw, label='ROC curve (area = %0.2f)' % roc_auc[0])\n",
    "plt.plot([0, 1], [0, 1], color='navy', lw=lw, linestyle='--')\n",
    "plt.xlim([0.0, 1.0])\n",
    "plt.ylim([0.0, 1.05])\n",
    "plt.xlabel('False Positive Rate')\n",
    "plt.ylabel('True Positive Rate')\n",
    "plt.title('Receiver operating characteristic example')\n",
    "plt.legend(loc=\"lower right\")\n",
    "plt.show()"
   ]
  },
  {
   "cell_type": "code",
   "execution_count": 105,
   "metadata": {},
   "outputs": [
    {
     "data": {
      "text/plain": [
       "{0: array([0.        , 0.        , 0.01851852, 0.01851852, 0.03703704,\n",
       "        0.03703704, 0.05555556, 0.05555556, 0.07407407, 0.07407407,\n",
       "        0.09259259, 0.09259259, 0.12962963, 0.12962963, 0.14814815,\n",
       "        0.14814815, 0.2037037 , 0.2037037 , 0.27777778, 0.27777778,\n",
       "        1.        ]),\n",
       " 1: array([0.        , 0.        , 0.02222222, 0.02222222, 0.11111111,\n",
       "        0.11111111, 0.17777778, 0.17777778, 0.2       , 0.2       ,\n",
       "        0.24444444, 0.24444444, 0.26666667, 0.26666667, 0.37777778,\n",
       "        0.37777778, 0.42222222, 0.42222222, 0.48888889, 0.48888889,\n",
       "        0.57777778, 0.57777778, 0.62222222, 0.62222222, 0.64444444,\n",
       "        0.64444444, 0.66666667, 0.66666667, 0.73333333, 0.73333333,\n",
       "        0.75555556, 0.75555556, 0.88888889, 0.88888889, 1.        ]),\n",
       " 2: array([0.        , 0.        , 0.01960784, 0.01960784, 0.07843137,\n",
       "        0.07843137, 0.09803922, 0.09803922, 0.11764706, 0.11764706,\n",
       "        0.1372549 , 0.1372549 , 0.15686275, 0.15686275, 0.17647059,\n",
       "        0.17647059, 0.31372549, 0.31372549, 0.33333333, 0.33333333,\n",
       "        0.35294118, 0.35294118, 0.41176471, 0.41176471, 0.45098039,\n",
       "        0.45098039, 0.47058824, 0.47058824, 0.50980392, 0.50980392,\n",
       "        0.56862745, 0.56862745, 1.        ]),\n",
       " 'micro': array([0.        , 0.        , 0.00666667, 0.00666667, 0.01333333,\n",
       "        0.01333333, 0.02      , 0.02      , 0.02666667, 0.02666667,\n",
       "        0.03333333, 0.03333333, 0.05333333, 0.05333333, 0.06      ,\n",
       "        0.06      , 0.06666667, 0.06666667, 0.07333333, 0.07333333,\n",
       "        0.08666667, 0.08666667, 0.09333333, 0.09333333, 0.1       ,\n",
       "        0.1       , 0.10666667, 0.10666667, 0.11333333, 0.11333333,\n",
       "        0.12      , 0.12      , 0.14      , 0.14      , 0.17333333,\n",
       "        0.17333333, 0.20666667, 0.20666667, 0.23333333, 0.23333333,\n",
       "        0.24      , 0.24      , 0.25333333, 0.25333333, 0.27333333,\n",
       "        0.27333333, 0.28666667, 0.28666667, 0.30666667, 0.30666667,\n",
       "        0.32      , 0.32      , 0.32666667, 0.32666667, 0.34666667,\n",
       "        0.34666667, 0.35333333, 0.35333333, 0.37333333, 0.37333333,\n",
       "        0.46      , 0.46      , 0.46666667, 0.46666667, 0.48666667,\n",
       "        0.48666667, 0.58666667, 0.58666667, 0.59333333, 0.59333333,\n",
       "        0.63333333, 0.63333333, 0.73333333, 0.73333333, 0.76      ,\n",
       "        0.76      , 0.78666667, 0.78666667, 0.79333333, 0.79333333,\n",
       "        0.8       , 0.8       , 0.80666667, 0.80666667, 0.82      ,\n",
       "        0.82      , 0.82666667, 0.82666667, 0.86666667, 0.86666667,\n",
       "        0.88666667, 0.88666667, 0.93333333, 0.93333333, 1.        ])}"
      ]
     },
     "execution_count": 105,
     "metadata": {},
     "output_type": "execute_result"
    }
   ],
   "source": [
    "fpr"
   ]
  },
  {
   "cell_type": "code",
   "execution_count": 39,
   "metadata": {},
   "outputs": [],
   "source": [
    "import numpy as np\n",
    "import matplotlib.pyplot as plt\n",
    "from matplotlib import style\n",
    "style.use(\"ggplot\")\n",
    "from sklearn import svm"
   ]
  },
  {
   "cell_type": "code",
   "execution_count": 40,
   "metadata": {},
   "outputs": [],
   "source": [
    "x = [1, 5, 1.5, 8, 1, 9]\n",
    "y = [2, 8, 1.8, 8, 0.6, 11]"
   ]
  },
  {
   "cell_type": "code",
   "execution_count": 41,
   "metadata": {},
   "outputs": [
    {
     "data": {
      "image/png": "[encoded data removed]",
      "text/plain": [
       "<Figure size 432x288 with 1 Axes>"
      ]
     },
     "metadata": {},
     "output_type": "display_data"
    }
   ],
   "source": [
    "plt.scatter(x,y)\n",
    "plt.show()"
   ]
  },
  {
   "cell_type": "code",
   "execution_count": 47,
   "metadata": {},
   "outputs": [
    {
     "name": "stdout",
     "output_type": "stream",
     "text": [
      "[[0.58 0.76]]\n"
     ]
    }
   ],
   "source": [
    "X = np.array([[1,2],\n",
    "             [5,8],\n",
    "             [1.5,1.8],\n",
    "             [8,8],\n",
    "             [1,0.6],\n",
    "             [9,11]])\n",
    "\n",
    "X.shape\n",
    "#X = X.reshape(-2,1)\n",
    "\n",
    "\n",
    "print(np.array([[0.58,0.76]]))"
   ]
  },
  {
   "cell_type": "code",
   "execution_count": 52,
   "metadata": {},
   "outputs": [
    {
     "data": {
      "text/plain": [
       "(6,)"
      ]
     },
     "execution_count": 52,
     "metadata": {},
     "output_type": "execute_result"
    }
   ],
   "source": [
    "y = np.array([0,1,0,1,0,1])\n",
    "#y = np.asarray(y)\n",
    "y.shape"
   ]
  },
  {
   "cell_type": "code",
   "execution_count": 53,
   "metadata": {},
   "outputs": [],
   "source": [
    "clf = svm.SVC(kernel='linear') # Linear Kernel"
   ]
  },
  {
   "cell_type": "code",
   "execution_count": 54,
   "metadata": {},
   "outputs": [
    {
     "data": {
      "text/plain": [
       "SVC(C=1.0, cache_size=200, class_weight=None, coef0=0.0,\n",
       "  decision_function_shape='ovr', degree=3, gamma='auto', kernel='linear',\n",
       "  max_iter=-1, probability=False, random_state=None, shrinking=True,\n",
       "  tol=0.001, verbose=False)"
      ]
     },
     "execution_count": 54,
     "metadata": {},
     "output_type": "execute_result"
    }
   ],
   "source": [
    "clf.fit(X,y)"
   ]
  },
  {
   "cell_type": "code",
   "execution_count": 55,
   "metadata": {},
   "outputs": [
    {
     "name": "stdout",
     "output_type": "stream",
     "text": [
      "[0.1380943  0.24462418]\n"
     ]
    },
    {
     "data": {
      "image/png": "[encoded data removed]",
      "text/plain": [
       "<Figure size 432x288 with 1 Axes>"
      ]
     },
     "metadata": {},
     "output_type": "display_data"
    }
   ],
   "source": [
    "clf.predict([[0.58,0.76]])\n",
    "clf.predict([[10,10]])\n",
    "\n",
    "w = clf.coef_[0]\n",
    "print(w)\n",
    "\n",
    "a = -w[0] / w[1]\n",
    "\n",
    "xx = np.linspace(0,12)\n",
    "yy = a * xx - clf.intercept_[0] / w[1]\n",
    "\n",
    "h0 = plt.plot(xx, yy, 'k-', label=\"non weighted div\")\n",
    "\n",
    "plt.scatter(X[:, 0], X[:, 1],c=x)\n",
    "plt.legend()\n",
    "plt.show()"
   ]
  },
  {
   "cell_type": "code",
   "execution_count": null,
   "metadata": {},
   "outputs": [],
   "source": []
  },
  {
   "cell_type": "code",
   "execution_count": 225,
   "metadata": {},
   "outputs": [
    {
     "data": {
      "text/plain": [
       "[[0, 0], [1, 1]]"
      ]
     },
     "execution_count": 225,
     "metadata": {},
     "output_type": "execute_result"
    }
   ],
   "source": []
  },
  {
   "cell_type": "code",
   "execution_count": 205,
   "metadata": {},
   "outputs": [],
   "source": [
    "y = [0, 1]"
   ]
  },
  {
   "cell_type": "code",
   "execution_count": 56,
   "metadata": {},
   "outputs": [
    {
     "data": {
      "image/png": "[encoded data removed]",
      "text/plain": [
       "<Figure size 432x288 with 1 Axes>"
      ]
     },
     "metadata": {},
     "output_type": "display_data"
    },
    {
     "data": {
      "image/png": "[encoded data removed]",
      "text/plain": [
       "<Figure size 432x288 with 1 Axes>"
      ]
     },
     "metadata": {},
     "output_type": "display_data"
    }
   ],
   "source": [
    "# importing scikit learn with make_blobs \n",
    "from sklearn.datasets.samples_generator import make_blobs \n",
    "  \n",
    "# creating datasets X containing n_samples \n",
    "# Y containing two classes \n",
    "X, Y = make_blobs(n_samples=500, centers=2, \n",
    "                  random_state=0, cluster_std=0.40) \n",
    "  \n",
    "# plotting scatters  \n",
    "plt.scatter(X[:, 0], X[:, 1], c=Y, s=50, cmap='spring'); \n",
    "plt.show()  \n",
    "\n",
    "    \n",
    "xfit = np.linspace(-1, 3.5) \n",
    "  \n",
    "# plotting scatter \n",
    "plt.scatter(X[:, 0], X[:, 1], c=Y, s=50, cmap='spring') \n",
    "  \n",
    "# plot a line between the different sets of data \n",
    "for m, b, d in [(1, 0.65, 0.33), (0.5, 1.6, 0.55), (-0.2, 2.9, 0.2)]: \n",
    "    yfit = m * xfit + b \n",
    "    plt.plot(xfit, yfit, '-k') \n",
    "    plt.fill_between(xfit, yfit - d, yfit + d, edgecolor='none',  \n",
    "    color='#AAAAAA', alpha=0.4) \n",
    "  \n",
    "plt.xlim(-1, 3.5); \n",
    "plt.show() "
   ]
  },
  {
   "cell_type": "code",
   "execution_count": 242,
   "metadata": {},
   "outputs": [
    {
     "data": {
      "text/plain": [
       "array([0, 1, 0, 0, 1, 0, 0, 0, 1, 0, 0, 0, 0, 1, 0, 1, 0, 1, 1, 0, 0, 1,\n",
       "       1, 0, 1, 1, 0, 1, 0, 0, 1, 0, 0, 1, 0, 0, 1, 0, 0, 1, 0, 0, 1, 0,\n",
       "       1, 0, 1, 1, 0, 0, 0, 0, 0, 1, 0, 0, 0, 0, 0, 0, 1, 1, 0, 0, 1, 1,\n",
       "       0, 1, 0, 1, 0, 0, 1, 1, 1, 0, 1, 0, 1, 0, 0, 0, 0, 0, 1, 0, 1, 1,\n",
       "       0, 1, 1, 1, 1, 0, 1, 0, 0, 1, 0, 0, 1, 1, 1, 1, 1, 0, 0, 0, 1, 0,\n",
       "       1, 1, 0, 0, 1, 1, 1, 1, 0, 0, 1, 0, 0, 0, 0, 0, 1, 1, 0, 1, 1, 1,\n",
       "       0, 0, 0, 0, 1, 1, 0, 0, 0, 0, 1, 1, 1, 0, 0, 1, 0, 1, 1, 0, 0, 1,\n",
       "       0, 1, 1, 0, 0, 1, 0, 1, 1, 1, 1, 0, 0, 1, 1, 1, 1, 0, 1, 1, 1, 0,\n",
       "       1, 0, 0, 0, 1, 1, 0, 1, 1, 0, 1, 1, 0, 1, 1, 1, 0, 0, 1, 0, 1, 1,\n",
       "       1, 0, 0, 0, 1, 1, 1, 1, 0, 1, 1, 1, 1, 0, 0, 0, 0, 1, 1, 0, 0, 1,\n",
       "       1, 0, 1, 1, 0, 0, 1, 0, 0, 1, 0, 1, 0, 1, 1, 1, 1, 1, 0, 1, 1, 0,\n",
       "       1, 1, 0, 1, 0, 1, 0, 0, 1, 0, 1, 1, 0, 1, 0, 0, 1, 0, 0, 1, 0, 1,\n",
       "       0, 1, 1, 1, 0, 0, 0, 0, 0, 1, 0, 1, 1, 0, 0, 0, 0, 0, 1, 1, 0, 1,\n",
       "       1, 1, 0, 0, 0, 0, 1, 0, 0, 1, 1, 1, 0, 0, 0, 0, 1, 1, 1, 1, 0, 0,\n",
       "       0, 1, 1, 1, 0, 0, 1, 1, 0, 0, 0, 0, 0, 0, 1, 1, 0, 1, 1, 0, 0, 0,\n",
       "       1, 0, 1, 0, 1, 0, 0, 0, 0, 0, 0, 0, 1, 0, 0, 1, 1, 1, 0, 0, 0, 1,\n",
       "       1, 0, 1, 1, 0, 0, 0, 1, 0, 1, 0, 1, 1, 0, 1, 1, 1, 1, 1, 1, 1, 1,\n",
       "       1, 1, 1, 1, 0, 0, 0, 0, 1, 0, 0, 0, 0, 0, 1, 1, 1, 0, 1, 1, 0, 0,\n",
       "       1, 1, 0, 0, 1, 1, 1, 0, 0, 0, 0, 1, 0, 0, 0, 1, 1, 0, 1, 0, 0, 1,\n",
       "       0, 1, 0, 1, 0, 0, 1, 0, 0, 0, 0, 1, 0, 1, 1, 0, 1, 0, 1, 1, 1, 1,\n",
       "       1, 1, 0, 1, 1, 1, 1, 1, 1, 0, 1, 0, 1, 0, 0, 0, 1, 1, 0, 1, 1, 0,\n",
       "       0, 1, 1, 1, 1, 1, 1, 0, 1, 1, 1, 0, 1, 1, 0, 0, 1, 1, 0, 1, 1, 0,\n",
       "       1, 0, 0, 1, 1, 0, 0, 1, 0, 1, 1, 0, 1, 0, 1, 0])"
      ]
     },
     "execution_count": 242,
     "metadata": {},
     "output_type": "execute_result"
    }
   ],
   "source": [
    "Y"
   ]
  },
  {
   "cell_type": "code",
   "execution_count": 263,
   "metadata": {},
   "outputs": [
    {
     "ename": "NameError",
     "evalue": "name 'digits' is not defined",
     "output_type": "error",
     "traceback": [
      "\u001b[0;31m---------------------------------------------------------------------------\u001b[0m",
      "\u001b[0;31mNameError\u001b[0m                                 Traceback (most recent call last)",
      "\u001b[0;32m<ipython-input-263-3969c28da08a>\u001b[0m in \u001b[0;36m<module>\u001b[0;34m()\u001b[0m\n\u001b[0;32m----> 1\u001b[0;31m \u001b[0mprint\u001b[0m\u001b[0;34m(\u001b[0m\u001b[0mdigits\u001b[0m\u001b[0;34m.\u001b[0m\u001b[0mdata\u001b[0m\u001b[0;34m)\u001b[0m\u001b[0;34m\u001b[0m\u001b[0m\n\u001b[0m",
      "\u001b[0;31mNameError\u001b[0m: name 'digits' is not defined"
     ]
    }
   ],
   "source": [
    "print(digits.data)"
   ]
  },
  {
   "cell_type": "code",
   "execution_count": 372,
   "metadata": {},
   "outputs": [],
   "source": [
    "cancer = datasets.load_breast_cancer()\n",
    "X_train, X_test, y_train, y_test = train_test_split(cancer.data, cancer.target, test_size=0.3,random_state=109) # 70% training and 30% test\n",
    "#Create a svm Classifier\n",
    "clf = svm.SVC(kernel='linear') # Linear Kernel\n",
    "\n",
    "#Train the model using the training sets\n",
    "clf.fit(X_train, y_train)\n",
    "\n",
    "#Predict the response for test dataset\n",
    "y_pred = clf.predict(X_test)"
   ]
  },
  {
   "cell_type": "code",
   "execution_count": 369,
   "metadata": {},
   "outputs": [
    {
     "data": {
      "text/plain": [
       "array([[1.167e+01, 2.002e+01, 7.521e+01, ..., 8.120e-02, 3.206e-01,\n",
       "        8.950e-02],\n",
       "       [1.194e+01, 1.824e+01, 7.571e+01, ..., 6.296e-02, 2.785e-01,\n",
       "        7.408e-02],\n",
       "       [1.916e+01, 2.660e+01, 1.262e+02, ..., 1.872e-01, 3.258e-01,\n",
       "        9.720e-02],\n",
       "       ...,\n",
       "       [8.219e+00, 2.070e+01, 5.327e+01, ..., 7.879e-02, 3.322e-01,\n",
       "        1.486e-01],\n",
       "       [9.000e+00, 1.440e+01, 5.636e+01, ..., 1.389e-02, 2.991e-01,\n",
       "        7.804e-02],\n",
       "       [1.286e+01, 1.332e+01, 8.282e+01, ..., 1.155e-01, 2.382e-01,\n",
       "        8.553e-02]])"
      ]
     },
     "execution_count": 369,
     "metadata": {},
     "output_type": "execute_result"
    }
   ],
   "source": [
    "X_test[1]"
   ]
  },
  {
   "cell_type": "code",
   "execution_count": 362,
   "metadata": {},
   "outputs": [
    {
     "data": {
      "text/plain": [
       "(398, 30)"
      ]
     },
     "execution_count": 362,
     "metadata": {},
     "output_type": "execute_result"
    }
   ],
   "source": [
    "X_train.shape"
   ]
  },
  {
   "cell_type": "code",
   "execution_count": 321,
   "metadata": {},
   "outputs": [
    {
     "data": {
      "text/plain": [
       "array([5., 8.])"
      ]
     },
     "execution_count": 321,
     "metadata": {},
     "output_type": "execute_result"
    }
   ],
   "source": [
    "X[1]"
   ]
  },
  {
   "cell_type": "code",
   "execution_count": 363,
   "metadata": {},
   "outputs": [
    {
     "data": {
      "text/plain": [
       "(398,)"
      ]
     },
     "execution_count": 363,
     "metadata": {},
     "output_type": "execute_result"
    }
   ],
   "source": [
    "y_train.shape"
   ]
  },
  {
   "cell_type": "code",
   "execution_count": 392,
   "metadata": {},
   "outputs": [
    {
     "data": {
      "text/plain": [
       "SVC(C=1.0, cache_size=200, class_weight=None, coef0=0.0,\n",
       "  decision_function_shape='ovr', degree=3, gamma='auto', kernel='rbf',\n",
       "  max_iter=-1, probability=False, random_state=None, shrinking=True,\n",
       "  tol=0.001, verbose=False)"
      ]
     },
     "execution_count": 392,
     "metadata": {},
     "output_type": "execute_result"
    }
   ],
   "source": [
    "import numpy as np\n",
    "X = np.array([[-1, -1], [-2, -1], [1, 1], [2, 1]])\n",
    "y = np.array([1, 1, 2, 2])\n",
    "from sklearn.svm import SVC\n",
    "clf = SVC()\n",
    "clf.fit(X, y) "
   ]
  },
  {
   "cell_type": "code",
   "execution_count": 408,
   "metadata": {},
   "outputs": [
    {
     "data": {
      "text/plain": [
       "array([1])"
      ]
     },
     "execution_count": 408,
     "metadata": {},
     "output_type": "execute_result"
    }
   ],
   "source": [
    "#clf.decision_function(X)\n",
    "clf.predict(X[0:1])"
   ]
  },
  {
   "cell_type": "code",
   "execution_count": null,
   "metadata": {},
   "outputs": [],
   "source": []
  },
  {
   "cell_type": "code",
   "execution_count": 409,
   "metadata": {},
   "outputs": [
    {
     "data": {
      "text/plain": [
       "array([[-1, -1]])"
      ]
     },
     "execution_count": 409,
     "metadata": {},
     "output_type": "execute_result"
    }
   ],
   "source": [
    "X[0:1]"
   ]
  },
  {
   "cell_type": "code",
   "execution_count": null,
   "metadata": {},
   "outputs": [],
   "source": []
  }
 ],
 "metadata": {
  "kernelspec": {
   "display_name": "Python 3",
   "language": "python",
   "name": "python3"
  },
  "language_info": {
   "codemirror_mode": {
    "name": "ipython",
    "version": 3
   },
   "file_extension": ".py",
   "mimetype": "text/x-python",
   "name": "python",
   "nbconvert_exporter": "python",
   "pygments_lexer": "ipython3",
   "version": "3.7.0"
  }
 },
 "nbformat": 4,
 "nbformat_minor": 2
}
